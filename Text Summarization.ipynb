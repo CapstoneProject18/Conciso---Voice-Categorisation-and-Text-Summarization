{
 "cells": [
  {
   "cell_type": "code",
   "execution_count": 5,
   "metadata": {},
   "outputs": [
    {
     "name": "stdout",
     "output_type": "stream",
     "text": [
      "Collecting lxml\n",
      "  Downloading https://files.pythonhosted.org/packages/d7/9d/1aa28aa9d293a816baec6c37328d6465b722b2ff3f4d1e93ed56e87813ee/lxml-4.2.5-cp37-cp37m-win_amd64.whl (3.6MB)\n",
      "Installing collected packages: lxml\n",
      "Successfully installed lxml-4.2.5\n"
     ]
    }
   ],
   "source": [
    "from gensim.summarization.summarizer import summarize \n",
    "from gensim.summarization import keywords\n",
    "import urllib.request\n",
    "from urllib.request import urlopen\n",
    "from bs4 import BeautifulSoup\n",
    "import requests\n",
    "!pip install lxml"
   ]
  },
  {
   "cell_type": "code",
   "execution_count": 9,
   "metadata": {},
   "outputs": [],
   "source": [
    "#text document from net\n",
    "text1=requests.get('http://rare-technologies.com/the_matrix_synopsis.txt').text\n",
    "#text doc from file\n",
    "#fname=\"./tex1.txt\"\n",
    "#with open(fname,'r') as myfile:\n",
    "    #text2=myfile.read()\n"
   ]
  },
  {
   "cell_type": "code",
   "execution_count": 10,
   "metadata": {},
   "outputs": [],
   "source": [
    "def get_only_text(url):\n",
    "    page=urlopen(url)\n",
    "    soup=BeautifulSoup(page,\"html.parser\")\n",
    "    text=''.join(map(lambda p: p.text,soup.find_all('p')))\n",
    "    return soup.title.text,text"
   ]
  },
  {
   "cell_type": "code",
   "execution_count": 16,
   "metadata": {},
   "outputs": [
    {
     "name": "stdout",
     "output_type": "stream",
     "text": [
      "Summary:\n",
      "Most roses are deciduous but a few (particularly from Southeast Asia) are evergreen or nearly so.\\nThe flowers of most species have five petals, with the exception of Rosa sericea, which usually has only four.\n",
      "A few species of roses have only vestigial prickles that have no points.\\nThe genus Rosa is subdivided into four subgenera:\\nRoses are best known as ornamental plants grown for their flowers in the garden and sometimes indoors.\n",
      "A few, mostly species roses are grown for attractive or scented foliage (such as Rosa glauca and Rosa rubiginosa), ornamental thorns (such as Rosa sericea) or for their showy fruit (such as Rosa moyesii).\\nOrnamental roses have been cultivated for millennia, with the earliest known cultivation known to date from at least 500 BC in Mediterranean countries, Persia, and China.[5] Many thousands of rose hybrids and cultivars have been bred and selected for garden use as flowering plants.\n",
      "As long ago as 1840 a collection numbering over one thousand different cultivars, varieties and species was possible when a rosarium was planted by Loddiges nursery for Abney Park Cemetery, an early Victorian garden cemetery and arboretum in England.\\nRed rose, the most well known rose\\nPeggy Martin climbing roses\\nSize can be as small as a thumbnail\\nThe hybrid garden rose \"Amber Flush\"\\nHybrid tea rose cultivar \\'Mrs. Herbert Stevens\\'\\nRoses are a popular crop for both domestic and commercial cut flowers.\n",
      "In the Indian subcontinent, Rooh Afza, a concentrated  squash made with roses, is popular, as are rose-flavoured frozen desserts such as ice cream and kulfi.[9][10]\\nRose flowers are used as food, also usually as flavouring or to add their scent to food.[11] Other minor uses include candied rose petals.[12]\\nRose creams (rose-flavoured fondant covered in chocolate, often topped with a crystallised rose petal) are a traditional English confectionery widely available from numerous producers in the UK.\\nUnder the American Federal Food, Drug, and Cosmetic Act,[13] there are only certain Rosa species, varieties, and parts are on the Generally Recognized as Safe lists.\n"
     ]
    }
   ],
   "source": [
    "#url summarization\n",
    "url=\"https://en.wikipedia.org/wiki/Rose\"\n",
    "text3=get_only_text(url)\n",
    "print(\"Summary:\")\n",
    "print(summarize(str(text3),word_count=300))"
   ]
  },
  {
   "cell_type": "code",
   "execution_count": 14,
   "metadata": {},
   "outputs": [
    {
     "name": "stdout",
     "output_type": "stream",
     "text": [
      "Summary:\n",
      "Anderson, a software engineer for a Metacortex, the other life as Neo, a computer hacker \"guilty of virtually every computer crime we have a law for.\" Agent Smith asks him to help them capture Morpheus, a dangerous terrorist, in exchange for amnesty.\n",
      "Morpheus explains that he's been searching for Neo his entire life and asks if Neo feels like \"Alice in Wonderland, falling down the rabbit hole.\" He explains to Neo that they exist in the Matrix, a false reality that has been constructed for humans to hide the truth.\n",
      "Neo is introduced to Morpheus's crew including Trinity; Apoc (Julian Arahanga), a man with long, flowing black hair; Switch; Cypher (bald with a goatee); two brawny brothers, Tank (Marcus Chong) and Dozer (Anthony Ray Parker); and a young, thin man named Mouse (Matt Doran).\n",
      "He asks Trinity why, if Morpheus thinks Neo is the One, he hasn't taken him to see the Oracle yet.\n",
      "Morpheus, Trinity, Neo, Apoc, Switch, Mouse and Cypher are jacked into the Matrix.\n",
      "Trinity brings the helicopter down to the floor that Morpheus is on and Neo opens fire on the three Agents.\n"
     ]
    }
   ],
   "source": [
    "print(\"Summary:\")\n",
    "print(summarize(str(text1),word_count=200))"
   ]
  }
 ],
 "metadata": {
  "kernelspec": {
   "display_name": "Python 3",
   "language": "python",
   "name": "python3"
  },
  "language_info": {
   "codemirror_mode": {
    "name": "ipython",
    "version": 3
   },
   "file_extension": ".py",
   "mimetype": "text/x-python",
   "name": "python",
   "nbconvert_exporter": "python",
   "pygments_lexer": "ipython3",
   "version": "3.7.1"
  }
 },
 "nbformat": 4,
 "nbformat_minor": 2
}
